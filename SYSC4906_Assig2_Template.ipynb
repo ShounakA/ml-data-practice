{
  "nbformat": 4,
  "nbformat_minor": 0,
  "metadata": {
    "colab": {
      "name": "SYSC4906_Assig2_Template.ipynb",
      "provenance": [],
      "collapsed_sections": []
    },
    "kernelspec": {
      "name": "python3",
      "display_name": "Python 3"
    },
    "accelerator": "GPU"
  },
  "cells": [
    {
      "cell_type": "markdown",
      "metadata": {
        "id": "OuXZ7kBp8kp5",
        "colab_type": "text"
      },
      "source": [
        "# SYSC4906 Assignment 2\n",
        "\n",
        "**Name:** \n",
        "\n",
        "**Student number:** \n",
        "\n",
        "Portions of this template are based on notebook by Jorge Rodríguez Araújo\n",
        "\n",
        "    https://medium.com/abraia/first-steps-with-transfer-learning-for-custom-image-classification-with-keras-b941601fcad5"
      ]
    },
    {
      "cell_type": "markdown",
      "metadata": {
        "id": "7n6M_ws2dwHR",
        "colab_type": "text"
      },
      "source": [
        "# Step 1: Load the image dataset"
      ]
    },
    {
      "cell_type": "code",
      "metadata": {
        "id": "iny0qDjlGZyB",
        "colab_type": "code",
        "colab": {}
      },
      "source": [
        "\n",
        "# #THIS WAS FOR ME TO GRAB THE IMAGES, YOU SHOULDNT NEED IT\n",
        "# # I assume you have the required images in this directory, so no need to run this\n",
        "# from google.colab import drive\n",
        "# drive.mount('/content/drive')"
      ],
      "execution_count": 0,
      "outputs": []
    },
    {
      "cell_type": "code",
      "metadata": {
        "id": "QczBezAN8cgT",
        "colab_type": "code",
        "colab": {
          "base_uri": "https://localhost:8080/",
          "height": 1000
        },
        "outputId": "b582d898-656b-4a68-f9dd-7581d12c0a45"
      },
      "source": [
        "#%%capture\n",
        "from glob import glob\n",
        "\n",
        "# Load data from SYSC4906 GitHub repo:\n",
        "!wget https://github.com/jrgreen7/SYSC4906/blob/master/Assignments/Assignment2/SYSC4906_Assig2_Data.zip?raw=true\n",
        "!unzip SYSC4906_Assig2_Data.zip?raw=true\n",
        "\n",
        "# Get list of filenames for the four datasets:\n",
        "TRAIN_DIR = 'train'\n",
        "TEST_DIR = 'test'\n",
        "trump_train = glob('train/trump/*.jpeg')\n",
        "trump_test = glob('test/trump/*.jpeg')\n",
        "decoy_train = glob('train/decoy/*.jpeg')\n",
        "decoy_test = glob('test/decoy/*.jpeg')\n"
      ],
      "execution_count": 138,
      "outputs": [
        {
          "output_type": "stream",
          "text": [
            "--2019-11-16 21:27:56--  https://github.com/jrgreen7/SYSC4906/blob/master/Assignments/Assignment2/SYSC4906_Assig2_Data.zip?raw=true\n",
            "Resolving github.com (github.com)... 140.82.114.3\n",
            "Connecting to github.com (github.com)|140.82.114.3|:443... connected.\n",
            "HTTP request sent, awaiting response... 302 Found\n",
            "Location: https://github.com/jrgreen7/SYSC4906/raw/master/Assignments/Assignment2/SYSC4906_Assig2_Data.zip [following]\n",
            "--2019-11-16 21:27:56--  https://github.com/jrgreen7/SYSC4906/raw/master/Assignments/Assignment2/SYSC4906_Assig2_Data.zip\n",
            "Reusing existing connection to github.com:443.\n",
            "HTTP request sent, awaiting response... 302 Found\n",
            "Location: https://raw.githubusercontent.com/jrgreen7/SYSC4906/master/Assignments/Assignment2/SYSC4906_Assig2_Data.zip [following]\n",
            "--2019-11-16 21:27:56--  https://raw.githubusercontent.com/jrgreen7/SYSC4906/master/Assignments/Assignment2/SYSC4906_Assig2_Data.zip\n",
            "Resolving raw.githubusercontent.com (raw.githubusercontent.com)... 151.101.0.133, 151.101.64.133, 151.101.128.133, ...\n",
            "Connecting to raw.githubusercontent.com (raw.githubusercontent.com)|151.101.0.133|:443... connected.\n",
            "HTTP request sent, awaiting response... 200 OK\n",
            "Length: 3677602 (3.5M) [application/zip]\n",
            "Saving to: ‘SYSC4906_Assig2_Data.zip?raw=true.2’\n",
            "\n",
            "SYSC4906_Assig2_Dat 100%[===================>]   3.51M  --.-KB/s    in 0.06s   \n",
            "\n",
            "2019-11-16 21:27:56 (58.4 MB/s) - ‘SYSC4906_Assig2_Data.zip?raw=true.2’ saved [3677602/3677602]\n",
            "\n",
            "Archive:  SYSC4906_Assig2_Data.zip?raw=true\n",
            "replace test/decoy/1.jpeg? [y]es, [n]o, [A]ll, [N]one, [r]ename: A\n",
            "  inflating: test/decoy/1.jpeg       \n",
            "  inflating: test/decoy/10.jpeg      \n",
            "  inflating: test/decoy/11.jpeg      \n",
            "  inflating: test/decoy/115.jpeg     \n",
            "  inflating: test/decoy/12.jpeg      \n",
            "  inflating: test/decoy/120.jpeg     \n",
            "  inflating: test/decoy/125.jpeg     \n",
            "  inflating: test/decoy/127.jpeg     \n",
            "  inflating: test/decoy/13.jpeg      \n",
            "  inflating: test/decoy/14.jpeg      \n",
            "  inflating: test/decoy/15.jpeg      \n",
            "  inflating: test/decoy/17.jpeg      \n",
            "  inflating: test/decoy/18.jpeg      \n",
            "  inflating: test/decoy/19.jpeg      \n",
            "  inflating: test/decoy/2.jpeg       \n",
            "  inflating: test/decoy/20.jpeg      \n",
            "  inflating: test/decoy/21.jpeg      \n",
            "  inflating: test/decoy/22.jpeg      \n",
            "  inflating: test/decoy/23.jpeg      \n",
            "  inflating: test/decoy/24.jpeg      \n",
            "  inflating: test/decoy/25.jpeg      \n",
            "  inflating: test/decoy/27.jpeg      \n",
            "  inflating: test/decoy/28.jpeg      \n",
            "  inflating: test/decoy/3.jpeg       \n",
            "  inflating: test/decoy/30.jpeg      \n",
            "  inflating: test/decoy/31.jpeg      \n",
            "  inflating: test/decoy/32.jpeg      \n",
            "  inflating: test/decoy/34.jpeg      \n",
            "  inflating: test/decoy/4.jpeg       \n",
            "  inflating: test/decoy/46.jpeg      \n",
            "  inflating: test/decoy/5.jpeg       \n",
            "  inflating: test/decoy/50.jpeg      \n",
            "  inflating: test/decoy/52.jpeg      \n",
            "  inflating: test/decoy/56.jpeg      \n",
            "  inflating: test/decoy/58.jpeg      \n",
            "  inflating: test/decoy/59.jpeg      \n",
            "  inflating: test/decoy/6.jpeg       \n",
            "  inflating: test/decoy/66.jpeg      \n",
            "  inflating: test/decoy/8.jpeg       \n",
            "  inflating: test/decoy/88.jpeg      \n",
            "  inflating: test/decoy/9.jpeg       \n",
            "  inflating: test/trump/1.jpeg       \n",
            "  inflating: test/trump/10.jpeg      \n",
            "  inflating: test/trump/11.jpeg      \n",
            "  inflating: test/trump/12.jpeg      \n",
            "  inflating: test/trump/13.jpeg      \n",
            "  inflating: test/trump/14.jpeg      \n",
            "  inflating: test/trump/15.jpeg      \n",
            "  inflating: test/trump/16.jpeg      \n",
            "  inflating: test/trump/17.jpeg      \n",
            "  inflating: test/trump/18.jpeg      \n",
            "  inflating: test/trump/19.jpeg      \n",
            "  inflating: test/trump/2.jpeg       \n",
            "  inflating: test/trump/20.jpeg      \n",
            "  inflating: test/trump/22.jpeg      \n",
            "  inflating: test/trump/23.jpeg      \n",
            "  inflating: test/trump/25.jpeg      \n",
            "  inflating: test/trump/26.jpeg      \n",
            "  inflating: test/trump/27.jpeg      \n",
            "  inflating: test/trump/28.jpeg      \n",
            "  inflating: test/trump/29.jpeg      \n",
            "  inflating: test/trump/3.jpeg       \n",
            "  inflating: test/trump/30.jpeg      \n",
            "  inflating: test/trump/31.jpeg      \n",
            "  inflating: test/trump/32.jpeg      \n",
            "  inflating: test/trump/33.jpeg      \n",
            "  inflating: test/trump/35.jpeg      \n",
            "  inflating: test/trump/36.jpeg      \n",
            "  inflating: test/trump/37.jpeg      \n",
            "  inflating: test/trump/38.jpeg      \n",
            "  inflating: test/trump/39.jpeg      \n",
            "  inflating: test/trump/4.jpeg       \n",
            "  inflating: test/trump/40.jpeg      \n",
            "  inflating: test/trump/41.jpeg      \n",
            "  inflating: test/trump/42.jpeg      \n",
            "  inflating: test/trump/5.jpeg       \n",
            "  inflating: test/trump/6.jpeg       \n",
            "  inflating: test/trump/7.jpeg       \n",
            "  inflating: test/trump/8.jpeg       \n",
            "  inflating: test/trump/9.jpeg       \n",
            "  inflating: train/decoy/1.jpeg      \n",
            "  inflating: train/decoy/10.jpeg     \n",
            "  inflating: train/decoy/100.jpeg    \n",
            "  inflating: train/decoy/102.jpeg    \n",
            "  inflating: train/decoy/103.jpeg    \n",
            "  inflating: train/decoy/105.jpeg    \n",
            "  inflating: train/decoy/106.jpeg    \n",
            "  inflating: train/decoy/107.jpeg    \n",
            "  inflating: train/decoy/108.jpeg    \n",
            "  inflating: train/decoy/11.jpeg     \n",
            "  inflating: train/decoy/110.jpeg    \n",
            "  inflating: train/decoy/111.jpeg    \n",
            "  inflating: train/decoy/112.jpeg    \n",
            "  inflating: train/decoy/114.jpeg    \n",
            "  inflating: train/decoy/116.jpeg    \n",
            "  inflating: train/decoy/117.jpeg    \n",
            "  inflating: train/decoy/118.jpeg    \n",
            "  inflating: train/decoy/119.jpeg    \n",
            "  inflating: train/decoy/12.jpeg     \n",
            "  inflating: train/decoy/121.jpeg    \n",
            "  inflating: train/decoy/122.jpeg    \n",
            "  inflating: train/decoy/123.jpeg    \n",
            "  inflating: train/decoy/124.jpeg    \n",
            "  inflating: train/decoy/126.jpeg    \n",
            "  inflating: train/decoy/13.jpeg     \n",
            "  inflating: train/decoy/14.jpeg     \n",
            "  inflating: train/decoy/15.jpeg     \n",
            "  inflating: train/decoy/16.jpeg     \n",
            "  inflating: train/decoy/17.jpeg     \n",
            "  inflating: train/decoy/18.jpeg     \n",
            "  inflating: train/decoy/19.jpeg     \n",
            "  inflating: train/decoy/2.jpeg      \n",
            "  inflating: train/decoy/20.jpeg     \n",
            "  inflating: train/decoy/21.jpeg     \n",
            "  inflating: train/decoy/22.jpeg     \n",
            "  inflating: train/decoy/23.jpeg     \n",
            "  inflating: train/decoy/24.jpeg     \n",
            "  inflating: train/decoy/25.jpeg     \n",
            "  inflating: train/decoy/26.jpeg     \n",
            "  inflating: train/decoy/27.jpeg     \n",
            "  inflating: train/decoy/29.jpeg     \n",
            "  inflating: train/decoy/30.jpeg     \n",
            "  inflating: train/decoy/31.jpeg     \n",
            "  inflating: train/decoy/32.jpeg     \n",
            "  inflating: train/decoy/33.jpeg     \n",
            "  inflating: train/decoy/34.jpeg     \n",
            "  inflating: train/decoy/35.jpeg     \n",
            "  inflating: train/decoy/36.jpeg     \n",
            "  inflating: train/decoy/37.jpeg     \n",
            "  inflating: train/decoy/38.jpeg     \n",
            "  inflating: train/decoy/39.jpeg     \n",
            "  inflating: train/decoy/4.jpeg      \n",
            "  inflating: train/decoy/40.jpeg     \n",
            "  inflating: train/decoy/41.jpeg     \n",
            "  inflating: train/decoy/45.jpeg     \n",
            "  inflating: train/decoy/47.jpeg     \n",
            "  inflating: train/decoy/48.jpeg     \n",
            "  inflating: train/decoy/5.jpeg      \n",
            "  inflating: train/decoy/51.jpeg     \n",
            "  inflating: train/decoy/53.jpeg     \n",
            "  inflating: train/decoy/54.jpeg     \n",
            "  inflating: train/decoy/55.jpeg     \n",
            "  inflating: train/decoy/57.jpeg     \n",
            "  inflating: train/decoy/60.jpeg     \n",
            "  inflating: train/decoy/61.jpeg     \n",
            "  inflating: train/decoy/62.jpeg     \n",
            "  inflating: train/decoy/63.jpeg     \n",
            "  inflating: train/decoy/65.jpeg     \n",
            "  inflating: train/decoy/67.jpeg     \n",
            "  inflating: train/decoy/68.jpeg     \n",
            "  inflating: train/decoy/7.jpeg      \n",
            "  inflating: train/decoy/70.jpeg     \n",
            "  inflating: train/decoy/71.jpeg     \n",
            "  inflating: train/decoy/72.jpeg     \n",
            "  inflating: train/decoy/73.jpeg     \n",
            "  inflating: train/decoy/74.jpeg     \n",
            "  inflating: train/decoy/75.jpeg     \n",
            "  inflating: train/decoy/76.jpeg     \n",
            "  inflating: train/decoy/77.jpeg     \n",
            "  inflating: train/decoy/78.jpeg     \n",
            "  inflating: train/decoy/79.jpeg     \n",
            "  inflating: train/decoy/8.jpeg      \n",
            "  inflating: train/decoy/80.jpeg     \n",
            "  inflating: train/decoy/81.jpeg     \n",
            "  inflating: train/decoy/83.jpeg     \n",
            "  inflating: train/decoy/84.jpeg     \n",
            "  inflating: train/decoy/85.jpeg     \n",
            "  inflating: train/decoy/86.jpeg     \n",
            "  inflating: train/decoy/87.jpeg     \n",
            "  inflating: train/decoy/89.jpeg     \n",
            "  inflating: train/decoy/9.jpeg      \n",
            "  inflating: train/decoy/90.jpeg     \n",
            "  inflating: train/decoy/91.jpeg     \n",
            "  inflating: train/decoy/92.jpeg     \n",
            "  inflating: train/decoy/93.jpeg     \n",
            "  inflating: train/decoy/94.jpeg     \n",
            "  inflating: train/decoy/95.jpeg     \n",
            "  inflating: train/decoy/96.jpeg     \n",
            "  inflating: train/decoy/97.jpeg     \n",
            "  inflating: train/decoy/99.jpeg     \n",
            "  inflating: train/trump/1.jpeg      \n",
            "  inflating: train/trump/10.jpeg     \n",
            "  inflating: train/trump/100.jpeg    \n",
            "  inflating: train/trump/11.jpeg     \n",
            "  inflating: train/trump/12.jpeg     \n",
            "  inflating: train/trump/13.jpeg     \n",
            "  inflating: train/trump/14.jpeg     \n",
            "  inflating: train/trump/15.jpeg     \n",
            "  inflating: train/trump/16.jpeg     \n",
            "  inflating: train/trump/17.jpeg     \n",
            "  inflating: train/trump/18.jpeg     \n",
            "  inflating: train/trump/19.jpeg     \n",
            "  inflating: train/trump/2.jpeg      \n",
            "  inflating: train/trump/20.jpeg     \n",
            "  inflating: train/trump/21.jpeg     \n",
            "  inflating: train/trump/22.jpeg     \n",
            "  inflating: train/trump/23.jpeg     \n",
            "  inflating: train/trump/24.jpeg     \n",
            "  inflating: train/trump/25.jpeg     \n",
            "  inflating: train/trump/26.jpeg     \n",
            "  inflating: train/trump/27.jpeg     \n",
            "  inflating: train/trump/28.jpeg     \n",
            "  inflating: train/trump/29.jpeg     \n",
            "  inflating: train/trump/3.jpeg      \n",
            "  inflating: train/trump/30.jpeg     \n",
            "  inflating: train/trump/31.jpeg     \n",
            "  inflating: train/trump/32.jpeg     \n",
            "  inflating: train/trump/33.jpeg     \n",
            "  inflating: train/trump/34.jpeg     \n",
            "  inflating: train/trump/35.jpeg     \n",
            "  inflating: train/trump/36.jpeg     \n",
            "  inflating: train/trump/37.jpeg     \n",
            "  inflating: train/trump/38.jpeg     \n",
            "  inflating: train/trump/39.jpeg     \n",
            "  inflating: train/trump/4.jpeg      \n",
            "  inflating: train/trump/40.jpeg     \n",
            "  inflating: train/trump/41.jpeg     \n",
            "  inflating: train/trump/42.jpeg     \n",
            "  inflating: train/trump/43.jpeg     \n",
            "  inflating: train/trump/44.jpeg     \n",
            "  inflating: train/trump/45.jpeg     \n",
            "  inflating: train/trump/46.jpeg     \n",
            "  inflating: train/trump/47.jpeg     \n",
            "  inflating: train/trump/48.jpeg     \n",
            "  inflating: train/trump/49.jpeg     \n",
            "  inflating: train/trump/5.jpeg      \n",
            "  inflating: train/trump/50.jpeg     \n",
            "  inflating: train/trump/51.jpeg     \n",
            "  inflating: train/trump/52.jpeg     \n",
            "  inflating: train/trump/53.jpeg     \n",
            "  inflating: train/trump/54.jpeg     \n",
            "  inflating: train/trump/55.jpeg     \n",
            "  inflating: train/trump/56.jpeg     \n",
            "  inflating: train/trump/57.jpeg     \n",
            "  inflating: train/trump/58.jpeg     \n",
            "  inflating: train/trump/59.jpeg     \n",
            "  inflating: train/trump/6.jpeg      \n",
            "  inflating: train/trump/60.jpeg     \n",
            "  inflating: train/trump/61.jpeg     \n",
            "  inflating: train/trump/62.jpeg     \n",
            "  inflating: train/trump/63.jpeg     \n",
            "  inflating: train/trump/64.jpeg     \n",
            "  inflating: train/trump/65.jpeg     \n",
            "  inflating: train/trump/66.jpeg     \n",
            "  inflating: train/trump/67.jpeg     \n",
            "  inflating: train/trump/68.jpeg     \n",
            "  inflating: train/trump/69.jpeg     \n",
            "  inflating: train/trump/7.jpeg      \n",
            "  inflating: train/trump/70.jpeg     \n",
            "  inflating: train/trump/71.jpeg     \n",
            "  inflating: train/trump/72.jpeg     \n",
            "  inflating: train/trump/73.jpeg     \n",
            "  inflating: train/trump/74.jpeg     \n",
            "  inflating: train/trump/75.jpeg     \n",
            "  inflating: train/trump/76.jpeg     \n",
            "  inflating: train/trump/77.jpeg     \n",
            "  inflating: train/trump/78.jpeg     \n",
            "  inflating: train/trump/79.jpeg     \n",
            "  inflating: train/trump/8.jpeg      \n",
            "  inflating: train/trump/80.jpeg     \n",
            "  inflating: train/trump/81.jpeg     \n",
            "  inflating: train/trump/82.jpeg     \n",
            "  inflating: train/trump/83.jpeg     \n",
            "  inflating: train/trump/84.jpeg     \n",
            "  inflating: train/trump/85.jpeg     \n",
            "  inflating: train/trump/86.jpeg     \n",
            "  inflating: train/trump/87.jpeg     \n",
            "  inflating: train/trump/88.jpeg     \n",
            "  inflating: train/trump/89.jpeg     \n",
            "  inflating: train/trump/9.jpeg      \n",
            "  inflating: train/trump/90.jpeg     \n",
            "  inflating: train/trump/91.jpeg     \n",
            "  inflating: train/trump/92.jpeg     \n",
            "  inflating: train/trump/93.jpeg     \n",
            "  inflating: train/trump/94.jpeg     \n",
            "  inflating: train/trump/95.jpeg     \n",
            "  inflating: train/trump/96.jpeg     \n",
            "  inflating: train/trump/97.jpeg     \n",
            "  inflating: train/trump/98.jpeg     \n",
            "  inflating: train/trump/99.jpeg     \n"
          ],
          "name": "stdout"
        }
      ]
    },
    {
      "cell_type": "markdown",
      "metadata": {
        "id": "2SuJ9U-W1vGh",
        "colab_type": "text"
      },
      "source": [
        "##Deliverable 1: Display the first image in each of the four sets."
      ]
    },
    {
      "cell_type": "code",
      "metadata": {
        "id": "pHTnL0r_34Jn",
        "colab_type": "code",
        "outputId": "1cda1963-1c75-4b53-9b3b-370a42852844",
        "colab": {
          "base_uri": "https://localhost:8080/",
          "height": 264
        }
      },
      "source": [
        "import numpy as np\n",
        "from PIL import Image\n",
        "import matplotlib.pyplot as plt\n",
        "from numpy import expand_dims\n",
        "from keras.preprocessing.image import load_img\n",
        "from keras.preprocessing.image import img_to_array\n",
        "from keras.applications.inception_v3 import preprocess_input\n",
        "from keras.preprocessing.image import ImageDataGenerator\n",
        "\n",
        "fig, axs = plt.subplots(2, 2)\n",
        "\n",
        "trumpTrain = trump_train[0]\n",
        "trumpTest = trump_test[0]\n",
        "decoyTrain =decoy_train[0]\n",
        "decoyTest = decoy_test[0]\n",
        "imagesView = [[trumpTrain, trumpTest],[decoyTrain, decoyTest]]\n",
        "pltTitles = [[\"Trump Train\", \"Trump Test\"],\n",
        "             [\"Decoy Train\", \"Decoy Test\"]]\n",
        "for i in range(2):\n",
        "  for j in range(2):\n",
        "    temp = Image.open(imagesView[i][j])\n",
        "    axs[i,j].imshow(temp)\n",
        "    axs[i,j].set_title(pltTitles[i][j])\n",
        "    axs[i,j].axis('off')\n",
        "\n",
        "trainSamples = []\n",
        "validationSamples = []\n",
        "for trumpImage in range(len(trump_train)):\n",
        "  tempImg = load_img(trump_train[trumpImage])\n",
        "  tempData = img_to_array(tempImg)\n",
        "  trainSamples.append(expand_dims(tempData,0))\n",
        "for decoyImage in range (len(decoy_train)):\n",
        "  tempImg = load_img(decoy_train[trumpImage])\n",
        "  tempData = img_to_array(tempImg)\n",
        "  trainSamples.append(expand_dims(tempData,0))\n",
        "\n",
        "\n",
        "\n"
      ],
      "execution_count": 139,
      "outputs": [
        {
          "output_type": "display_data",
          "data": {
            "image/png": "[encoded data removed]",
            "text/plain": [
              "<Figure size 432x288 with 4 Axes>"
            ]
          },
          "metadata": {
            "tags": []
          }
        }
      ]
    },
    {
      "cell_type": "markdown",
      "metadata": {
        "id": "Ruw5ut92JoTp",
        "colab_type": "text"
      },
      "source": [
        "# Step 2: Load the original ImageNet-trained Inception v3"
      ]
    },
    {
      "cell_type": "code",
      "metadata": {
        "id": "bKqBQblXJsfo",
        "colab_type": "code",
        "colab": {}
      },
      "source": [
        "from keras.applications.inception_v3 import InceptionV3\n",
        "# load model\n",
        "base_model = InceptionV3(weights='imagenet', include_top=True)\n",
        "# Display a summary of the model structure:\n",
        "x = base_model.summary()\n",
        "\n"
      ],
      "execution_count": 0,
      "outputs": []
    },
    {
      "cell_type": "markdown",
      "metadata": {
        "id": "YhT_kBUtlbxV",
        "colab_type": "text"
      },
      "source": [
        "## Deliverable 2: Number of parameters in layer 'conv2d_1 (Conv2D)'\n",
        "\n",
        "The conv2d_1 (Conv2D) layer has 864 parameters\n",
        "\n",
        "*Optional*: Each filter is..."
      ]
    },
    {
      "cell_type": "markdown",
      "metadata": {
        "colab_type": "text",
        "id": "H5uGDcxUlP4G"
      },
      "source": [
        "# Step 3: Test the original ImageNet-trained Inception v3 on our data"
      ]
    },
    {
      "cell_type": "code",
      "metadata": {
        "colab_type": "code",
        "id": "ZQU2v57plNVC",
        "colab": {}
      },
      "source": [
        "from keras.applications.inception_v3 import decode_predictions, preprocess_input\n",
        "import numpy as np\n",
        "from keras.preprocessing import image as kp_image\n",
        "\n",
        "WIDTH = 299\n",
        "HEIGHT = 299\n",
        "\n",
        "def predictImgNet(model, img):\n",
        "    \"\"\"Run model prediction on an image and decode predictions into 1000 ImageNet classes\n",
        "    Args:\n",
        "        model: keras model\n",
        "        img: PIL format image\n",
        "    Returns:\n",
        "        list of predicted labels and their probabilities \n",
        "    \"\"\"\n",
        "    x = kp_image.img_to_array(img)  # Convert image to nparray\n",
        "    x = np.expand_dims(x, axis=0)   # Need to pre-pend a dimension to indicate batch number.\n",
        "    x = preprocess_input(x)         # Normalize image to match how Inceptionv3 expects to receive images\n",
        "    preds = model.predict(x)        # Use the model to compute prediction score for each possible class\n",
        "    labels = decode_predictions(preds) # Decodes the output classes back to the original labels for the 1000 ImageNet classes\n",
        "    return labels[0]\n",
        "\n",
        "# Clasify 'train/trump/100.jpeg'\n",
        "trumpPrediction = predictImgNet(base_model, Image.open('train/trump/100.jpeg'))\n",
        "print (trumpPrediction)\n",
        "# Classify 'test/decoy/28.jpeg'\n",
        "decoyPrediction = predictImgNet(base_model, Image.open('test/decoy/28.jpeg'))\n",
        "print (decoyPrediction)\n"
      ],
      "execution_count": 0,
      "outputs": []
    },
    {
      "cell_type": "markdown",
      "metadata": {
        "id": "ZRDGWBFAxmO6",
        "colab_type": "text"
      },
      "source": [
        "## Deliverable 3: What are the top-ranked predictions  and their scores from the InceptionV3 original model for these two images? \n",
        "- for train/trump/100.jpeg\n",
        "  - 'neck_brace' = 42.6%\n",
        "  - 'wig' = 8.56%\n",
        "- for test/decoy/28.jpeg \n",
        "  - 'bow_tie' = 93.46% \n",
        "  - 'wig' = 4.6%"
      ]
    },
    {
      "cell_type": "markdown",
      "metadata": {
        "id": "8iXYo_-O5MpN",
        "colab_type": "text"
      },
      "source": [
        "#Step 4: Transfer Learning. Reload the InceptionV3 CNN, but with a new dense layer. "
      ]
    },
    {
      "cell_type": "code",
      "metadata": {
        "id": "rqhpmAXHz7l1",
        "colab_type": "code",
        "colab": {}
      },
      "source": [
        "from keras.models import Model\n",
        "from keras.layers import Dense, GlobalAveragePooling2D, Dropout\n",
        "from keras.applications.inception_v3 import InceptionV3, preprocess_input\n",
        "\n",
        "CLASSES = 2\n",
        "base_model_custom = InceptionV3(weights='imagenet', include_top=False)\n",
        "# Load base model, but ...\n",
        "x = base_model_custom.output\n",
        "x = GlobalAveragePooling2D(name='avg_pool')(x)\n",
        "x = Dropout(0.4)(x)\n",
        "predictions = Dense(CLASSES, activation='softmax')(x)\n",
        "model = Model(inputs=base_model_custom.input, outputs=predictions)\n",
        "\n",
        "for layer in base_model_custom.layers:\n",
        "    layer.trainable = False\n",
        "\n",
        "model.compile(optimizer='rmsprop',\n",
        "              loss='categorical_crossentropy',\n",
        "              metrics=['accuracy'])\n",
        "\n",
        "model.summary()"
      ],
      "execution_count": 0,
      "outputs": []
    },
    {
      "cell_type": "markdown",
      "metadata": {
        "id": "8B6MQPn_-v63",
        "colab_type": "text"
      },
      "source": [
        "##Deliverable 4: Examine the layers in the full model (see Step 2) and the new modified model using summary(). Which layer has the largest difference in the number of learnable parameters, when comparing the two models? What type of layer is it and why did the number of learnable parameters change?\n",
        "\n",
        "The dense layer changes the most. It is reduced from 2049000 down to 4098 because number of classes determine the output size of the dense layer."
      ]
    },
    {
      "cell_type": "markdown",
      "metadata": {
        "id": "IadgsHtw48Of",
        "colab_type": "text"
      },
      "source": [
        "#Step 5: Create training and validation image generators to augment image sets"
      ]
    },
    {
      "cell_type": "code",
      "metadata": {
        "id": "mFXIq_eT5QhH",
        "colab_type": "code",
        "colab": {}
      },
      "source": [
        "from keras.preprocessing.image import ImageDataGenerator\n",
        "\n",
        "WIDTH = 299\n",
        "HEIGHT = 299\n",
        "BATCH_SIZE = 32\n",
        "\n",
        "# data prep\n",
        "train_datagen = ImageDataGenerator(\n",
        "    height_shift_range=0.3,\n",
        "    width_shift_range=0.3,\n",
        "    horizontal_flip=True\n",
        "    )\n",
        "\n",
        "validation_datagen = ImageDataGenerator(\n",
        "    height_shift_range=0.3,\n",
        "    width_shift_range=0.3,\n",
        "    horizontal_flip=True\n",
        "    )\n",
        "\n",
        "\n",
        "train_generator = train_datagen.flow_from_directory('train/', batch_size=BATCH_SIZE, target_size=(WIDTH,HEIGHT), class_mode='categorical')\n",
        "\n",
        "validation_generator = validation_datagen.flow_from_directory('test/', batch_size=BATCH_SIZE, target_size=(WIDTH,HEIGHT), class_mode='categorical')"
      ],
      "execution_count": 0,
      "outputs": []
    },
    {
      "cell_type": "markdown",
      "metadata": {
        "id": "obgVZFdM8hMy",
        "colab_type": "text"
      },
      "source": [
        "##Deliverable 5: Invoke “next” on your training ImageDataGenerator  to create a batch of 32 images and labels (where each label is a tuple). Create a 4rowx8col subplot matrix showing all 32 images. Each image should be titled with its label tuple."
      ]
    },
    {
      "cell_type": "code",
      "metadata": {
        "id": "lxEdjtfR6rZx",
        "colab_type": "code",
        "colab": {}
      },
      "source": [
        "def showImageGenBatch(X_batch, y_batch):\n",
        "  plt.figure(figsize=(12,9))\n",
        "  for i in range(32):\n",
        "    plt.subplot(4,8,i+1)\n",
        "    image = X_batch[i].astype('uint8')\n",
        "    plt.imshow(image)\n",
        "    plt.axis('off')\n",
        "    plt.title(y_batch[i])\n",
        "\n",
        "X_batch, y_batch = train_generator.next()\n",
        "showImageGenBatch(X_batch,y_batch)\n",
        "X_batch, y_batch = validation_generator.next()\n",
        "showImageGenBatch(X_batch,y_batch)"
      ],
      "execution_count": 0,
      "outputs": []
    },
    {
      "cell_type": "markdown",
      "metadata": {
        "id": "mXByUzJPmYRJ",
        "colab_type": "text"
      },
      "source": [
        "#Step 6: Use transfer learning to train the new CNN"
      ]
    },
    {
      "cell_type": "code",
      "metadata": {
        "id": "-UIMyZkReKQB",
        "colab_type": "code",
        "colab": {}
      },
      "source": [
        "EPOCHS = 10\n",
        "BATCH_SIZE = 32\n",
        "STEPS_PER_EPOCH = 3\n",
        "VALIDATION_STEPS = 1\n",
        "\n",
        "MODEL_FILE = 'filename.model'\n",
        "\n",
        "history = model.fit_generator(\n",
        "    train_generator,\n",
        "    epochs=EPOCHS,\n",
        "    steps_per_epoch=STEPS_PER_EPOCH,\n",
        "    validation_data=validation_generator,\n",
        "    validation_steps=VALIDATION_STEPS\n",
        "    )\n",
        "  \n",
        "model.save(MODEL_FILE)"
      ],
      "execution_count": 0,
      "outputs": []
    },
    {
      "cell_type": "markdown",
      "metadata": {
        "id": "9Tf9ghMJGyBV",
        "colab_type": "text"
      },
      "source": [
        "##Deliverable 6: Plot the training and validation loss at each training epoch (i.e. the learning curve). Repeat for accuracy instead of loss."
      ]
    },
    {
      "cell_type": "code",
      "metadata": {
        "id": "4mi_PZoqC5hh",
        "colab_type": "code",
        "colab": {}
      },
      "source": [
        "def plot_training(history):\n",
        "  acc = history.history['acc']\n",
        "  val_acc = history.history['val_acc']\n",
        "  loss = history.history['loss']\n",
        "  val_loss = history.history['val_loss']\n",
        "  epochs = range(len(acc))\n",
        "  \n",
        "  plt.plot(epochs, acc, 'r.')\n",
        "  plt.plot(epochs, val_acc, 'r')\n",
        "  plt.title('Training and validation accuracy')\n",
        "  \n",
        "  plt.figure()\n",
        "  plt.plot(epochs, loss, 'r.')\n",
        "  plt.plot(epochs, val_loss, 'r-')\n",
        "  plt.title('Training and validation loss')\n",
        "  plt.show()\n",
        "  \n",
        "plot_training(history)"
      ],
      "execution_count": 0,
      "outputs": []
    },
    {
      "cell_type": "markdown",
      "metadata": {
        "id": "nbgT-7755kUy",
        "colab_type": "text"
      },
      "source": [
        "#Step 7: Test the new CNN"
      ]
    },
    {
      "cell_type": "code",
      "metadata": {
        "id": "BtqGQesd6ytD",
        "colab_type": "code",
        "colab": {}
      },
      "source": [
        "from keras.models import load_model\n",
        "\n",
        "model = load_model(MODEL_FILE)"
      ],
      "execution_count": 0,
      "outputs": []
    },
    {
      "cell_type": "code",
      "metadata": {
        "id": "7l-5t8d2Xsge",
        "colab_type": "code",
        "colab": {}
      },
      "source": [
        "from keras.applications.inception_v3 import decode_predictions, preprocess_input\n",
        "import numpy as np\n",
        "from keras.preprocessing import image as kp_image\n",
        "\n",
        "HEIGHT = 299\n",
        "WIDTH = 299\n",
        "\n",
        "def predictTrump(model, img):\n",
        "    \"\"\"Run model prediction on an image and decode predictions into 1000 ImageNet classes\n",
        "    Args:\n",
        "        model: keras model\n",
        "        img: PIL format image\n",
        "    Returns:\n",
        "        Class label with higher predicted probabilities \n",
        "    \"\"\"\n",
        "    x = kp_image.img_to_array(img)  # Convert image to nparray\n",
        "    x = np.expand_dims(x, axis=0)   # Need to pre-pend a dimension to indicate batch number.\n",
        "    x = preprocess_input(x)         # Normalize image to match how Inceptionv3 expects to receive images\n",
        "    preds = model.predict(x)        # Use the model to compute prediction score for each possible class\n",
        "    label = 'trump' if preds[0][1]>preds[0][0] else 'decoy' # Decodes the predicted class scores to assign a single class label\n",
        "    return label\n",
        "\n",
        "# Example code showing how to predict a single image label:\n",
        "# img = kp_image.load_img('test/decoy/28.jpeg', target_size=(HEIGHT, WIDTH))\n",
        "# label = predictTrump(model, img)\n",
        "\n",
        "predTrump = []\n",
        "trueTrump = []\n",
        "for images in trump_test:\n",
        "  img = kp_image.load_img(images, target_size=(HEIGHT, WIDTH))\n",
        "  predTrump.append(predictTrump(model,img))\n",
        "  trueTrump.append('trump')\n",
        "predDecoy = []\n",
        "trueDecoy = []\n",
        "for images in decoy_test:\n",
        "  img = kp_image.load_img(images, target_size=(HEIGHT, WIDTH))\n",
        "  predDecoy.append(predictTrump(model,img))\n",
        "  trueDecoy.append('decoy')\n",
        "y_true = trueTrump + trueDecoy\n",
        "y_pred = predTrump + predDecoy\n"
      ],
      "execution_count": 0,
      "outputs": []
    },
    {
      "cell_type": "markdown",
      "metadata": {
        "id": "QFuh44eXV5M_",
        "colab_type": "text"
      },
      "source": [
        "##Deliverable 7: Print confusion matrix and accuracy:"
      ]
    },
    {
      "cell_type": "code",
      "metadata": {
        "id": "gZDRNC9RWAQt",
        "colab_type": "code",
        "colab": {}
      },
      "source": [
        "from sklearn.metrics import confusion_matrix, accuracy_score\n",
        "import seaborn as sns\n",
        "import matplotlib.pyplot as plt     \n",
        "\n",
        "# Function to pretty-print confusion matrix. Doesn't work perfectly...\n",
        "def printCM(cm,labels):\n",
        "  ax= plt.subplot()\n",
        "  sns.heatmap(cm, annot=True, ax = ax); #annot=True to annotate cells\n",
        "\n",
        "  # labels, title and ticks\n",
        "  ax.set_xlabel('Predicted labels')\n",
        "  ax.set_ylabel('True labels'); \n",
        "  ax.set_title('Confusion Matrix') \n",
        "  ax.xaxis.set_ticklabels(labels)\n",
        "  ax.yaxis.set_ticklabels(labels)\n",
        "  return\n",
        "\n",
        "labels = ['decoy', 'trump']\n",
        "cm = confusion_matrix(y_true,y_pred)\n",
        "printCM(cm, labels)\n",
        "\n",
        "accuracy = accuracy_score(y_true, y_pred)\n",
        "print('The total accuracy of the model is ', accuracy)"
      ],
      "execution_count": 0,
      "outputs": []
    }
  ]
}